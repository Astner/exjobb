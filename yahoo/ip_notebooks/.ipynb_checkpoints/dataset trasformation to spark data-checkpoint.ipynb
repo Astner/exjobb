{
 "cells": [
  {
   "cell_type": "markdown",
   "metadata": {},
   "source": [
    "# Transform dataset to be able to be handled in spark"
   ]
  },
  {
   "cell_type": "code",
   "execution_count": 1,
   "metadata": {
    "collapsed": true
   },
   "outputs": [],
   "source": [
    "import os\n",
    "import time\n",
    "import shutil\n",
    "\n",
    "\n",
    "devFile = '../data/temp/testDataset_3_users.txt'\n",
    "outFile = '../data/temp/testDataset_3_users_SPARK_VERSION.txt'\n",
    "\n",
    "file_10k = '../data/temp/artistDataset_10000_users.txt'\n",
    "out_file_10k = '../data/temp/artistDataset_10000_users_SPARK_VERSION.txt'\n",
    "\n",
    "out_100k = '../data/temp/artistDataset_100k_users_SPARK_VERSION.txt'\n",
    "\n",
    "realFile = '../Webscope_C15/ydata-ymusic-kddcup-2011-track1/trainIdx1.txt'\n",
    "realOut = '../data/trainIdx1_SPARK_VERSION.txt'\n",
    "\n",
    "#out_10_users = ''\n"
   ]
  },
  {
   "cell_type": "code",
   "execution_count": null,
   "metadata": {
    "collapsed": false
   },
   "outputs": [],
   "source": [
    "\n",
    "def yahooFileToSpark(inputFile,outputFile,maxNrUsers):\n",
    "    f = open(inputFile,'r')\n",
    "    \n",
    "    if os.path.isfile(outputFile):\n",
    "        os.remove(outputFile)    \n",
    "    out = open(outputFile,'a')\n",
    "    \n",
    "    for userNr in range(0,maxNrUsers):\n",
    "        line = f.readline()\n",
    "       \n",
    "        #Deffensive: Check for empty file  \n",
    "        if line == '':\n",
    "            print('End of file reached')\n",
    "            #f.close()\n",
    "            break\n",
    "\n",
    "        else:\n",
    "            #Now we have a non-empty line        \n",
    "            #out = 'initial value'\n",
    "            lineSplit = line.split('|')\n",
    "            tabSplit = line.split('\\t')\n",
    "\n",
    "            # Checking to make sure of userID line\n",
    "            if len(lineSplit) == 2 and len(tabSplit) == 1: \n",
    "                #Got a user, extracting meta-data\n",
    "                userID = lineSplit[0]\n",
    "                nrRatings = int(lineSplit[1].rstrip())\n",
    "                #out = userID    \n",
    "\n",
    "                for i in range(0,nrRatings):\n",
    "                    #Read rating-line and add userID data\n",
    "                    rating = f.readline().rstrip()\n",
    "                    outString = rating + '\\t' + userID + '\\n'\n",
    "                    out.write(outString)\n",
    "                    \n",
    "                    #print(outString)\n",
    "    f.close()\n",
    "    out.close()\n",
    "    return True\n",
    "\n",
    "#maxNrUsers = 4\n",
    "#r = yahooFileToSpark(devFile,outFile,maxNrUsers)\n",
    "#r2 = yahooFileToSpark(file_10k,out_file_10k,maxNrUsers)\n",
    "\n",
    "#realFile = '../Webscope_C15/ydata-ymusic-kddcup-2011-track1/trainIdx1.txt'\n",
    "trainFile = '../Webscope_C15/ydata-ymusic-kddcup-2011-track1/trainIdx1.txt'\n",
    "validationFile = '../Webscope_C15/ydata-ymusic-kddcup-2011-track1/validationIdx1.txt'\n",
    "testFile = '../Webscope_C15/ydata-ymusic-kddcup-2011-track1/testIdx1.txt'\n",
    "\n",
    "outFile = '../data/temp/dev_100k_users/validationIdx1_SPARK_VERSION.txt'\n",
    "\n",
    "\n",
    "#maxNrUsers = nUsers= 1 000 990\n",
    "\n",
    "nrUsers = 1000990\n",
    "\n",
    "\n",
    "\n",
    "start_time = time.time()\n",
    "\n",
    "yahooFileToSpark(validationFile,outFile,nrUsers)\n",
    "\n",
    "\n",
    "end_time=time.time()-start_time\n",
    "print(end_time)\n"
   ]
  },
  {
   "cell_type": "code",
   "execution_count": 23,
   "metadata": {
    "collapsed": false
   },
   "outputs": [
    {
     "data": {
      "text/plain": [
       "100099"
      ]
     },
     "execution_count": 23,
     "metadata": {},
     "output_type": "execute_result"
    }
   ],
   "source": [
    "\n",
    "int(maxUsers / 10)\n",
    "\n"
   ]
  },
  {
   "cell_type": "code",
   "execution_count": 1,
   "metadata": {
    "collapsed": false
   },
   "outputs": [
    {
     "data": {
      "text/plain": [
       "9.333333333333334"
      ]
     },
     "execution_count": 1,
     "metadata": {},
     "output_type": "execute_result"
    }
   ],
   "source": [
    "f url.endswith('.com'):\n",
    "    url = url[:-4]"
   ]
  },
  {
   "cell_type": "code",
   "execution_count": 12,
   "metadata": {
    "collapsed": true
   },
   "outputs": [],
   "source": [
    "str1 = 'testName.txttt'"
   ]
  },
  {
   "cell_type": "code",
   "execution_count": 34,
   "metadata": {
    "collapsed": false
   },
   "outputs": [
    {
     "data": {
      "text/plain": [
       "True"
      ]
     },
     "execution_count": 34,
     "metadata": {},
     "output_type": "execute_result"
    }
   ],
   "source": [
    "\n",
    "#PRE: fileName is endong in .txt\n",
    "def splitTextFileForSpark(inputPath,inputFile,outFolder,nrSplits,nrUsers):\n",
    "    fIn = open(inputPath+inputFile,'r')\n",
    "\n",
    "    if os.path.isdir(outFolder):\n",
    "        #os.rmdir(outFolder)\n",
    "        shutil.rmtree(outFolder)\n",
    "    #out = open(outputFile,'a')\n",
    "    os.mkdir(outFolder) \n",
    "    \n",
    "    usersPerFile = int(nrUsers / nrSplits) + 1 #+1 in order to not lose user in hte end\n",
    "    #breakpoint = 0\n",
    "    \n",
    "    for i in range(0,nrSplits):\n",
    "        fOut = outFolder +'/'+ inputFile[:-4] + '_Part_'+str(i+1)+'_of_'+str(nrSplits)+'.txt'\n",
    "        out = open(fOut,'a')\n",
    "        \n",
    "        for j in range(0,usersPerFile):\n",
    "            line = fIn.readline()\n",
    "            \n",
    "            #Deffensive: Check for empty file  \n",
    "            if line == '':\n",
    "                print('End of file reached')\n",
    "                #f.close()\n",
    "                break\n",
    "\n",
    "            else:\n",
    "                #Now we have a non-empty line        \n",
    "                #out = 'initial value'\n",
    "                lineSplit = line.split('|')\n",
    "                tabSplit = line.split('\\t')\n",
    "\n",
    "                # Checking to make sure of userID line\n",
    "                if len(lineSplit) == 2 and len(tabSplit) == 1: \n",
    "                    #Got a user, extracting meta-data\n",
    "                    userID = lineSplit[0]\n",
    "                    nrRatings = int(lineSplit[1].rstrip())\n",
    "\n",
    "                    for i in range(0,nrRatings):\n",
    "                        #Read rating-line and add userID data\n",
    "                        rating = fIn.readline().rstrip()\n",
    "                        outString = rating + '\\t' + userID + '\\n'\n",
    "                        out.write(outString)\n",
    "        out.close()\n",
    "            \n",
    "            \n",
    "    fIn.close()\n",
    "    #out.close()\n",
    "    \n",
    "    return True\n",
    "\n",
    "maxUsers = 1000990\n",
    "#path = '../data/temp/'\n",
    "#fileIn = realFile\n",
    "realFile = '../Webscope_C15/ydata-ymusic-kddcup-2011-track1/trainIdx1.txt'\n",
    "realF = 'trainIdx1.txt'\n",
    "realPath = '../Webscope_C15/ydata-ymusic-kddcup-2011-track1/'\n",
    "\n",
    "outFolder = '../data/temp/split_dataset_1k_users'\n",
    "nrSplits = 1\n",
    "nrUsers = 10\n",
    "#nrUsers = maxUsers\n",
    "\n",
    "#outFolder = \n",
    "splitTextFileForSpark(realPath,realF,outFolder,nrSplits,nrUsers)\n"
   ]
  },
  {
   "cell_type": "code",
   "execution_count": 13,
   "metadata": {
    "collapsed": false
   },
   "outputs": [
    {
     "data": {
      "text/plain": [
       "'testName.t'"
      ]
     },
     "execution_count": 13,
     "metadata": {},
     "output_type": "execute_result"
    }
   ],
   "source": [
    "str1[:-4]"
   ]
  },
  {
   "cell_type": "code",
   "execution_count": null,
   "metadata": {
    "collapsed": true
   },
   "outputs": [],
   "source": [
    "\n",
    "import os\n",
    "for file in os.listdir(\"/mydir\"):\n",
    "    if file.endswith(\".txt\"):\n",
    "        print(file)\n",
    "\n",
    "        \n",
    "        "
   ]
  }
 ],
 "metadata": {
  "kernelspec": {
   "display_name": "Python 3",
   "language": "python",
   "name": "python3"
  },
  "language_info": {
   "codemirror_mode": {
    "name": "ipython",
    "version": 3
   },
   "file_extension": ".py",
   "mimetype": "text/x-python",
   "name": "python",
   "nbconvert_exporter": "python",
   "pygments_lexer": "ipython3",
   "version": "3.5.1"
  }
 },
 "nbformat": 4,
 "nbformat_minor": 0
}
