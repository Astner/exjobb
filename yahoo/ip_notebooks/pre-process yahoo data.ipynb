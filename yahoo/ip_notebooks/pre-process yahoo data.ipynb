{
 "cells": [
  {
   "cell_type": "markdown",
   "metadata": {},
   "source": [
    "# Preprocessing the Yahoo! Dataset"
   ]
  },
  {
   "cell_type": "markdown",
   "metadata": {},
   "source": [
    "# Functions for turning tracks to artists"
   ]
  },
  {
   "cell_type": "code",
   "execution_count": 1,
   "metadata": {
    "collapsed": false
   },
   "outputs": [
    {
     "name": "stdout",
     "output_type": "stream",
     "text": [
      "Test1: True\n",
      "Test2: True\n",
      "Error, item is not a track\n",
      "Test3: True\n",
      "Test4: True\n",
      "Test5: True\n",
      "Test6: True\n",
      "Test7: True\n",
      "Test8: True\n"
     ]
    }
   ],
   "source": [
    "# Paths to relevant files\n",
    "\n",
    "albumFile = 'Webscope_C15/ydata-ymusic-kddcup-2011-track1/albumData1.txt'\n",
    "trackFile = 'Webscope_C15/ydata-ymusic-kddcup-2011-track1/trackData1.txt'\n",
    "artistFile = 'Webscope_C15/ydata-ymusic-kddcup-2011-track1/artistData1.txt'\n",
    "genreFile = 'Webscope_C15/ydata-ymusic-kddcup-2011-track1/genreData1.txt'\n",
    "##mode = 'r' #r for read, w for write only, a for append, r+ for r+w \n",
    "#f1 = open(trackFile,mode) \n",
    "#f2 = open(artistFile,mode) \n",
    "\n",
    "# Transform a trackID to artistID\n",
    "# PRE: itemID is confirmed to be of type in targetFile\n",
    "# If no match found, returns None\n",
    "def trackToArtist(itemID,trackF):\n",
    "    trackID = int(itemID)\n",
    "    file = open(trackF,'r')\n",
    "    for line in file:\n",
    "        splitLine = line.split('|')\n",
    "        if len(splitLine) < 3: \n",
    "            print('Error: Too little info about track')\n",
    "            break\n",
    "        lineID = int(splitLine[0].rstrip())\n",
    "        artistID = splitLine[2].rstrip()\n",
    "    \n",
    "        if trackID == lineID:\n",
    "            #Have found a match\n",
    "            #Check if artist data exists\n",
    "            if artistID == 'None':\n",
    "                return None\n",
    "            else:\n",
    "                return int(artistID)\n",
    "        elif trackID < lineID:\n",
    "            #Because the files are sorted we can terminate when we pass the sought for value\n",
    "            #print('test')\n",
    "            #We should NOT end up here\n",
    "            print('Error, item is not a track')    \n",
    "            return None    \n",
    "    # Should never reach these lines\n",
    "    print('Error: Nothing descisive found')\n",
    "    return None\n",
    "        \n",
    "\n",
    "print('Test1: %s' % (trackToArtist('0',trackFile) == 587636))\n",
    "print('Test2: %s' % (trackToArtist(7,trackFile)  == None))\n",
    "print('Test3: %s' % (trackToArtist(80,trackFile)  == None))\n",
    "print('Test4: %s' % (trackToArtist('624960',trackFile) == 380811))\n",
    "\n",
    "# Check if item itemID is of the type specified by typeFile\n",
    "# Assumption: Because the files are sorted we can terminate when we pass the sought for value\n",
    "def isOfType(inputID,fileName):\n",
    "    itemID = int(inputID)\n",
    "    #print(itemID)\n",
    "    file = open(fileName,'r')\n",
    "    \n",
    "    for line in file:\n",
    "        splitLine = line.split('|')\n",
    "        lineID = int(splitLine[0].rstrip())\n",
    "        #print(lineID)\n",
    "        if itemID == lineID:\n",
    "            return True\n",
    "        elif itemID < lineID:\n",
    "            #Because the files are sorted we can terminate when we pass the sought for value\n",
    "            #print('test')\n",
    "            return False\n",
    "    \n",
    "    return False\n",
    "\n",
    "\n",
    "print('Test5: %s' % (isOfType('5',trackFile) == True))\n",
    "print('Test6: %s' % (isOfType('10',trackFile) == False))\n",
    "print('Test7: %s' % (isOfType('10',artistFile) == True))\n",
    "print('Test8: %s' % (isOfType('200',artistFile) == False))\n"
   ]
  },
  {
   "cell_type": "markdown",
   "metadata": {
    "collapsed": false
   },
   "source": [
    "# Functions for: Create User Data and turn to Ngrams"
   ]
  },
  {
   "cell_type": "code",
   "execution_count": 2,
   "metadata": {
    "collapsed": false
   },
   "outputs": [],
   "source": [
    "# Tracked: trackId, rating, date, time\n",
    "# WARNING: PRE: User data is one item, can not handle inf large rating-item lists\n",
    "def createUserDataItem(inputFile,nrDataTracked,nrRatings):\n",
    "    userData = [[0 for x in range(0,nrRatings)] for y in range(0,nrDataTracked)]\n",
    "    # Called: userData[3][39] 3: item index, 39: is raingIndex\n",
    "    # Uses zero-indexing\n",
    "    for x in range(0,int(nrRatings)):\n",
    "        line = inputFile.readline()\n",
    "        tabSplit = line.split('\\t')\n",
    "        if len(tabSplit) == 4: #DEFFENSIVE should not be anything else\n",
    "            #We have a rating-line\n",
    "            # Save to userData:\n",
    "            #trackID  \n",
    "            userData[0][x] = int(tabSplit[0])        \n",
    "            #rating\n",
    "            userData[1][x] = int(tabSplit[1])\n",
    "            #date \n",
    "            userData[2][x] = int(tabSplit[2])\n",
    "            #time \n",
    "            userData[3][x] = tabSplit[3].rstrip()\n",
    "        else:\n",
    "            print('ERROR: rating-item line expected in user data creation')\n",
    "    return userData\n",
    "\n",
    "# Transforms single-user data to NGRAM and writes it to outputFile\n",
    "# Uses limitations of what to count to ngram \n",
    "def userDataToNgram(ratingDiffDown,ratingDiffUpp,dateLimitDown,dateLimitUpp,outputFile):\n",
    "    counter = 0 # REMOVE later, only for testing\n",
    "    ngrams = ''\n",
    "    \n",
    "    # Take 'next' song and compare with all other to find corrolations\n",
    "    #For each item, compare with all other\n",
    "    for index in range(0,nrRatings):\n",
    "        #PRE: data is sorted on date, cronologically \n",
    "        #Fetch item data\n",
    "        trackID = userData[0][index]\n",
    "        rating = userData[1][index]\n",
    "        date = userData[2][index]\n",
    "        time = userData[3][index]\n",
    "\n",
    "        #Compare it on conditions to other ratings\n",
    "        for i in range(0,nrRatings):\n",
    "            #Avoid comparing with self\n",
    "            if i != index:\n",
    "                #Check date limits\n",
    "                if date-dateLimitDown <= userData[2][i] and userData[2][i] <= date+dateLimitUpp:\n",
    "                    #Check rating limits\n",
    "                    if rating-ratingDiffDown <= userData[1][i] and userData[1][i] <= rating+ratingDiffUpp:\n",
    "                        counter = counter + 1\n",
    "                        #All limits are passed, save item correlations\n",
    "                        outString = '1,%s,%s\\n' % (trackID, userData[0][i])\n",
    "                        #ngrams += outString\n",
    "                        outputFile.write(outString)\n",
    "                        \n",
    "    #outputFile.write(ngrams)\n",
    "    return counter"
   ]
  },
  {
   "cell_type": "code",
   "execution_count": 23,
   "metadata": {
    "collapsed": false
   },
   "outputs": [],
   "source": [
    "# Import libraries needed\n",
    "import os\n",
    "import time\n",
    "\n",
    "# Contains variables to set and experiment with\n",
    "dateLimitDown = 0 #Nr dates before current rating to include\n",
    "dateLimitUpp = 0 #Nr dates after current rating to include\n",
    "ratingDiffDown = 0 #0 to 100, 0 means equal rating only 100 means all below included \n",
    "ratingDiffUpp = 0 #0 to 100, 0 means equal rating only 100 means all above included\n",
    "# ---------------------\n",
    "\n",
    "maxNrUsers   = 100 #Meta: nUsers= 1000990\n",
    "\n",
    "\n",
    "# READ or RE-READ the file\n",
    "#filename = 'dummy-2-users.txt'\n",
    "#filename = 'Webscope_C15/ydata-ymusic-kddcup-2011-track1/trainIdx1.txt'\n",
    "filename = 'data/temp/artistDataset_10000_users.txt'\n",
    "\n",
    "\n",
    "# ---------------------\n",
    "mode = 'r' #r for read, w for write only, a for append, r+ for r+w \n",
    "f = open(filename,mode) \n",
    "\n",
    "\n",
    "# Open WRITE file \n",
    "outputFile = 'output_100.txt'\n",
    "modeOut = 'a' #r for read, w for write only, a for append, r+ for r+w \n",
    "#os.remove(outputFile) #TODO: Is this really ok structure to have? \n",
    "fOut = open(outputFile,modeOut) \n",
    "\n",
    "\n",
    "#FIXED VALUES:\n",
    "nrDataTracked = 4 #File structure info for cration of user data object DO NOT TOUCH\n"
   ]
  },
  {
   "cell_type": "markdown",
   "metadata": {},
   "source": [
    "# Run script:"
   ]
  },
  {
   "cell_type": "code",
   "execution_count": 24,
   "metadata": {
    "collapsed": false
   },
   "outputs": [
    {
     "name": "stdout",
     "output_type": "stream",
     "text": [
      "0\n",
      "Done\n",
      "14.970263004302979\n"
     ]
    }
   ],
   "source": [
    "start_time = time.time()\n",
    "\n",
    "for user in range(0,maxNrUsers): \n",
    "    # READ next line, should be a user\n",
    "    line = f.readline()\n",
    "    \n",
    "    #Deffensive: Check for empty file  \n",
    "    if line == '':\n",
    "        print('End of file reached')\n",
    "        #print(out)\n",
    "        # Close used files\n",
    "        fOut.close()\n",
    "        f.close()\n",
    "        break\n",
    "    else:\n",
    "        #Know we have a non-empty line        \n",
    "        out = 'initial value'\n",
    "        lineSplit = line.split('|')\n",
    "        tabSplit = line.split('\\t')\n",
    "\n",
    "        # Checking to make sure of userID line\n",
    "        if len(lineSplit) == 2 and len(tabSplit) == 1: \n",
    "            #Got a user, extracting meta-data\n",
    "            userID = lineSplit[0]\n",
    "            nrRatings = int(lineSplit[1].rstrip())\n",
    "            #out = userID\n",
    "\n",
    "            #Create user data from input file ratings \n",
    "            userData = createUserDataItem(f,nrDataTracked,nrRatings)\n",
    "            \n",
    "            #print(userData)\n",
    "            \n",
    "            #Transform user data to ngrams and save to file\n",
    "            out = userDataToNgram(ratingDiffDown,ratingDiffUpp,dateLimitDown,dateLimitUpp,fOut)\n",
    "            \n",
    "        else : \n",
    "            #Deffensive to make sure correct use of file structure\n",
    "            print('ERROR: in file read process, user info line expected')\n",
    "            break\n",
    "    #print(out)\n",
    "    if user % 100 == 0:\n",
    "        print(user)\n",
    "        \n",
    "# Close used files\n",
    "fOut.close()\n",
    "f.close()\n",
    "print('Done')\n",
    "end_time=time.time()-start_time\n",
    "print(end_time)\n",
    "\n",
    "# 1000 users => 250 MB\n",
    "# 1000 users (nr2) => 250 MB in 364 sec = 6 min :: NOTE: AFTER CASHING \n",
    "# 1000 users = 361 sec\n",
    "\n",
    "# 10000 users => 2.64 GB in 2690 sec = 44 min :: NOTE: before cashing\n",
    "# 10000 users =>            2676 sec             NOTE: after cashing\n",
    "\n",
    "\n",
    "# Prediction, linearly scaling: \n",
    "#   100 000 users =>  26 GB in  7.5 hours\n",
    "# 1 000 000 users => 260 GB in 75   hours = 3.1 days\n",
    "\n",
    "# That is BEFORE: data storage aggregation and \"cashing\" of user data before write to disk\n"
   ]
  },
  {
   "cell_type": "code",
   "execution_count": null,
   "metadata": {
    "collapsed": true
   },
   "outputs": [],
   "source": [
    "1+2"
   ]
  },
  {
   "cell_type": "code",
   "execution_count": null,
   "metadata": {
    "collapsed": true
   },
   "outputs": [],
   "source": []
  },
  {
   "cell_type": "code",
   "execution_count": null,
   "metadata": {
    "collapsed": true
   },
   "outputs": [],
   "source": []
  }
 ],
 "metadata": {
  "kernelspec": {
   "display_name": "Python 3",
   "language": "python",
   "name": "python3"
  },
  "language_info": {
   "codemirror_mode": {
    "name": "ipython",
    "version": 3
   },
   "file_extension": ".py",
   "mimetype": "text/x-python",
   "name": "python",
   "nbconvert_exporter": "python",
   "pygments_lexer": "ipython3",
   "version": "3.5.1"
  }
 },
 "nbformat": 4,
 "nbformat_minor": 0
}
