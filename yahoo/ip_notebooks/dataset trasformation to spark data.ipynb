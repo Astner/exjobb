{
 "cells": [
  {
   "cell_type": "markdown",
   "metadata": {},
   "source": [
    "# Transform dataset to be able to be handled in spark"
   ]
  },
  {
   "cell_type": "code",
   "execution_count": 40,
   "metadata": {
    "collapsed": true
   },
   "outputs": [],
   "source": [
    "import os\n",
    "import time\n",
    "\n",
    "devFile = '../data/temp/testDataset_3_users.txt'\n",
    "outFile = '../data/temp/testDataset_3_users_SPARK_VERSION.txt'\n",
    "\n",
    "file_10k = '../data/temp/artistDataset_10000_users.txt'\n",
    "out_file_10k = '../data/temp/artistDataset_10000_users_SPARK_VERSION.txt'\n",
    "\n",
    "out_100k = '../data/temp/artistDataset_100k_users_SPARK_VERSION.txt'\n",
    "\n",
    "realFile = '../Webscope_C15/ydata-ymusic-kddcup-2011-track1/trainIdx1.txt'\n",
    "realOut = '../data/trainIdx1_SPARK_VERSION.txt'\n"
   ]
  },
  {
   "cell_type": "code",
   "execution_count": 41,
   "metadata": {
    "collapsed": false
   },
   "outputs": [
    {
     "name": "stdout",
     "output_type": "stream",
     "text": [
      "22.823830127716064\n"
     ]
    }
   ],
   "source": [
    "\n",
    "def yahooFileToSpark(inputFile,outputFile,maxNrUsers):\n",
    "    f = open(inputFile,'r')\n",
    "    \n",
    "    if os.path.isfile(outputFile):\n",
    "        os.remove(outputFile)    \n",
    "    out = open(outputFile,'a')\n",
    "    \n",
    "    for userNr in range(0,maxNrUsers):\n",
    "        line = f.readline()\n",
    "       \n",
    "        #Deffensive: Check for empty file  \n",
    "        if line == '':\n",
    "            print('End of file reached')\n",
    "            f.close()\n",
    "            break\n",
    "\n",
    "        else:\n",
    "            #Now we have a non-empty line        \n",
    "            #out = 'initial value'\n",
    "            lineSplit = line.split('|')\n",
    "            tabSplit = line.split('\\t')\n",
    "\n",
    "            # Checking to make sure of userID line\n",
    "            if len(lineSplit) == 2 and len(tabSplit) == 1: \n",
    "                #Got a user, extracting meta-data\n",
    "                userID = lineSplit[0]\n",
    "                nrRatings = int(lineSplit[1].rstrip())\n",
    "                #out = userID    \n",
    "\n",
    "                for i in range(0,nrRatings):\n",
    "                    #Read rating-line and add userID data\n",
    "                    rating = f.readline().rstrip()\n",
    "                    outString = rating + '\\t' + userID + '\\n'\n",
    "                    out.write(outString)\n",
    "                    \n",
    "                    #print(outString)\n",
    "    f.close()\n",
    "    out.close()\n",
    "    return True\n",
    "\n",
    "#maxNrUsers = 4\n",
    "#r = yahooFileToSpark(devFile,outFile,maxNrUsers)\n",
    "#r2 = yahooFileToSpark(file_10k,out_file_10k,maxNrUsers)\n",
    "\n",
    "\n",
    "\n",
    "maxNrUsers = 100000\n",
    "nrUsers = maxNrUsers\n",
    "\n",
    "start_time = time.time()\n",
    "r2 = yahooFileToSpark(realFile,out_100k,nrUsers)\n",
    "end_time=time.time()-start_time\n",
    "print(end_time)\n"
   ]
  },
  {
   "cell_type": "code",
   "execution_count": 18,
   "metadata": {
    "collapsed": false
   },
   "outputs": [
    {
     "data": {
      "text/plain": [
       "'115200\\t100\\t4220\\t10:16:00\\t2'"
      ]
     },
     "execution_count": 18,
     "metadata": {},
     "output_type": "execute_result"
    }
   ],
   "source": [
    "r"
   ]
  },
  {
   "cell_type": "code",
   "execution_count": 12,
   "metadata": {
    "collapsed": false
   },
   "outputs": [
    {
     "data": {
      "text/plain": [
       "'test\\t32\\t34'"
      ]
     },
     "execution_count": 12,
     "metadata": {},
     "output_type": "execute_result"
    }
   ],
   "source": [
    "'test\\t32' + '\\t34'"
   ]
  },
  {
   "cell_type": "code",
   "execution_count": null,
   "metadata": {
    "collapsed": true
   },
   "outputs": [],
   "source": []
  }
 ],
 "metadata": {
  "kernelspec": {
   "display_name": "Python 3",
   "language": "python",
   "name": "python3"
  },
  "language_info": {
   "codemirror_mode": {
    "name": "ipython",
    "version": 3
   },
   "file_extension": ".py",
   "mimetype": "text/x-python",
   "name": "python",
   "nbconvert_exporter": "python",
   "pygments_lexer": "ipython3",
   "version": "3.5.1"
  }
 },
 "nbformat": 4,
 "nbformat_minor": 0
}
